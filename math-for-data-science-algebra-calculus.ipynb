{
 "cells": [
  {
   "cell_type": "markdown",
   "id": "0b073d84",
   "metadata": {
    "papermill": {
     "duration": 0.012347,
     "end_time": "2024-10-15T01:16:33.418215",
     "exception": false,
     "start_time": "2024-10-15T01:16:33.405868",
     "status": "completed"
    },
    "tags": []
   },
   "source": [
    "# **1. Algebra for Data Science** "
   ]
  },
  {
   "cell_type": "markdown",
   "id": "e9aabcfd",
   "metadata": {
    "papermill": {
     "duration": 0.009436,
     "end_time": "2024-10-15T01:16:33.438297",
     "exception": false,
     "start_time": "2024-10-15T01:16:33.428861",
     "status": "completed"
    },
    "tags": []
   },
   "source": [
    "# **Linear Algebra :**\n",
    "### Linear Algebra is the backbone of data science algorithms, especially in machine learning and deep learning. You need to understand the following concepts: \n",
    "# **1- Scalars, Vectors and Matrices**"
   ]
  },
  {
   "cell_type": "markdown",
   "id": "351986c1",
   "metadata": {
    "papermill": {
     "duration": 0.009027,
     "end_time": "2024-10-15T01:16:33.457198",
     "exception": false,
     "start_time": "2024-10-15T01:16:33.448171",
     "status": "completed"
    },
    "tags": []
   },
   "source": [
    "# 1=> **Scalars :** are single numbersor  zero dimentional matrix."
   ]
  },
  {
   "cell_type": "code",
   "execution_count": 1,
   "id": "29b548b4",
   "metadata": {
    "execution": {
     "iopub.execute_input": "2024-10-15T01:16:33.482477Z",
     "iopub.status.busy": "2024-10-15T01:16:33.480880Z",
     "iopub.status.idle": "2024-10-15T01:16:33.496790Z",
     "shell.execute_reply": "2024-10-15T01:16:33.495666Z"
    },
    "papermill": {
     "duration": 0.031388,
     "end_time": "2024-10-15T01:16:33.499493",
     "exception": false,
     "start_time": "2024-10-15T01:16:33.468105",
     "status": "completed"
    },
    "tags": []
   },
   "outputs": [
    {
     "data": {
      "text/plain": [
       "array([3])"
      ]
     },
     "execution_count": 1,
     "metadata": {},
     "output_type": "execute_result"
    }
   ],
   "source": [
    "import numpy as np\n",
    "v = np.array([3])\n",
    "v"
   ]
  },
  {
   "cell_type": "markdown",
   "id": "1c3ad7e5",
   "metadata": {
    "papermill": {
     "duration": 0.009875,
     "end_time": "2024-10-15T01:16:33.519604",
     "exception": false,
     "start_time": "2024-10-15T01:16:33.509729",
     "status": "completed"
    },
    "tags": []
   },
   "source": [
    "# 2=> **Vectors :** are ordered lists of numbers (1D arrays)."
   ]
  },
  {
   "cell_type": "code",
   "execution_count": 2,
   "id": "48a635cd",
   "metadata": {
    "execution": {
     "iopub.execute_input": "2024-10-15T01:16:33.541578Z",
     "iopub.status.busy": "2024-10-15T01:16:33.541135Z",
     "iopub.status.idle": "2024-10-15T01:16:33.550295Z",
     "shell.execute_reply": "2024-10-15T01:16:33.549038Z"
    },
    "papermill": {
     "duration": 0.023188,
     "end_time": "2024-10-15T01:16:33.552721",
     "exception": false,
     "start_time": "2024-10-15T01:16:33.529533",
     "status": "completed"
    },
    "tags": []
   },
   "outputs": [
    {
     "data": {
      "text/plain": [
       "array([3, 4, 5])"
      ]
     },
     "execution_count": 2,
     "metadata": {},
     "output_type": "execute_result"
    }
   ],
   "source": [
    "import numpy as np\n",
    "v = np.array([3, 4, 5])\n",
    "v"
   ]
  },
  {
   "cell_type": "markdown",
   "id": "3fa8a54a",
   "metadata": {
    "papermill": {
     "duration": 0.009119,
     "end_time": "2024-10-15T01:16:33.571518",
     "exception": false,
     "start_time": "2024-10-15T01:16:33.562399",
     "status": "completed"
    },
    "tags": []
   },
   "source": [
    "# 3=> **Matrices :** A matrix is a two-dimensional array of numbers arranged in rows and columns. It is a fundamental concept in linear algebra."
   ]
  },
  {
   "cell_type": "code",
   "execution_count": 3,
   "id": "6706a3b2",
   "metadata": {
    "execution": {
     "iopub.execute_input": "2024-10-15T01:16:33.592733Z",
     "iopub.status.busy": "2024-10-15T01:16:33.591841Z",
     "iopub.status.idle": "2024-10-15T01:16:33.599977Z",
     "shell.execute_reply": "2024-10-15T01:16:33.598889Z"
    },
    "papermill": {
     "duration": 0.021037,
     "end_time": "2024-10-15T01:16:33.602111",
     "exception": false,
     "start_time": "2024-10-15T01:16:33.581074",
     "status": "completed"
    },
    "tags": []
   },
   "outputs": [
    {
     "data": {
      "text/plain": [
       "array([[1, 2, 3],\n",
       "       [4, 5, 6]])"
      ]
     },
     "execution_count": 3,
     "metadata": {},
     "output_type": "execute_result"
    }
   ],
   "source": [
    "import numpy as np\n",
    "M = np.array([[1, 2, 3], [4, 5, 6]])\n",
    "M"
   ]
  },
  {
   "cell_type": "markdown",
   "id": "bdc180ad",
   "metadata": {
    "papermill": {
     "duration": 0.009509,
     "end_time": "2024-10-15T01:16:33.622120",
     "exception": false,
     "start_time": "2024-10-15T01:16:33.612611",
     "status": "completed"
    },
    "tags": []
   },
   "source": [
    "# **2- Matrix Operations:**"
   ]
  },
  {
   "cell_type": "markdown",
   "id": "8283296b",
   "metadata": {
    "papermill": {
     "duration": 0.009983,
     "end_time": "2024-10-15T01:16:33.642230",
     "exception": false,
     "start_time": "2024-10-15T01:16:33.632247",
     "status": "completed"
    },
    "tags": []
   },
   "source": [
    "# 1=> **Addition** & **Subtraction** of matrices"
   ]
  },
  {
   "cell_type": "code",
   "execution_count": 4,
   "id": "7112ddba",
   "metadata": {
    "execution": {
     "iopub.execute_input": "2024-10-15T01:16:33.664189Z",
     "iopub.status.busy": "2024-10-15T01:16:33.663780Z",
     "iopub.status.idle": "2024-10-15T01:16:33.674561Z",
     "shell.execute_reply": "2024-10-15T01:16:33.673261Z"
    },
    "papermill": {
     "duration": 0.02501,
     "end_time": "2024-10-15T01:16:33.677081",
     "exception": false,
     "start_time": "2024-10-15T01:16:33.652071",
     "status": "completed"
    },
    "tags": []
   },
   "outputs": [
    {
     "data": {
      "text/html": [
       "<img src=\"data:image/png;base64,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\" width=\"600\" height=\"100\"/>"
      ],
      "text/plain": [
       "<IPython.core.display.Image object>"
      ]
     },
     "execution_count": 4,
     "metadata": {},
     "output_type": "execute_result"
    }
   ],
   "source": [
    "from IPython.display import Image\n",
    "Image(url=\"data:image/png;base64,iVBORw0KGgoAAAANSUhEUgAAAPIAAADRCAMAAADBjh8OAAACjlBMVEX////A4/+Dyv8AAADx+P9rwv/q9f//AABZWVlDQ0N4eHiIiIjp6eng4ODd3d10dHSenp7BwcEUFBTOzs75+fldXV3///r/7v///f/x8fH/9PP///iNbNX/2rWkpKS2trb3//////L85+T/OmT/U4TR8///7/gAof+sDVz/4/7/qGz/tZbMzMz//+r/UakAk/+E3P9KPsAAnJb/bLT/AFL/FTT/fzr/8uu4u///3KgAjP8AcgAxMTHl3v+vJHKZkgD/ltP/wsP/KwD/68r/aEn/PR7/cpL/RXz/pMn/LVX/3fz/fFj/v6X/w/f/n3b/jWGd1P//4dH/Nxf/x7X/0eX/3Of/vZD/zKH/AEj/SgD/8dD/g6X//t//6tr/bbr/ACE3Nzf/q5MApP9Cs///u32Gs/9Bm/+2zbHOs8m4j7D/nq7/npT/xOX/jJ7/RjP/Xyz/4bv/tsb/fbD/kDn/aGj/1c3/xtH/tNH/fIf/f27/Wm7/bX7/U1D/jIv/XD//p6n/QTv/QlD/j3n/+cn/UJP/PGz/fEX/WBT/y/f/1ZH/GW//qYb/ZSX/kNP/faj/VlT/rV7/qOL/7LL/Un3/l2f/eD//j5H/Z46mxP//wnWTvv/N1v9zzP+fr/+g7f952/94ov/ZuHIjVJbFoU4AJn6FTDq3lofSqksAGIK8xdmiPYiskN+LpDQSiDOb1NHU1656AGpMlRtosZzPhpyOmh4AiFqBAIS7sN9rAJDHtz3Qw3CrdLCQnkFlvby8OHCEPri9sj7HXIHWmauCumwwnHvANnm9yoD/6JaYAFWATb9ZggBtytB5AFdum141lCWacmk0AABQm9eGNJZ9NriXTp7BdptXAHycl86EuIygzLWSMmBEAAAPzUlEQVR4nO2di18TVxbHLyhcQcQXJIEUyUQNFUzjbqWpRNomiBVIFQxJEEnBmmDXVsS20dZWW6VaW62uWBXFdu1jX3ZVrGhtt7XVtWpZtbt2+/pv9tx5hLzmTiag0s79fT5C7uTOmfO9j3PHTO4BISZtKCNTO2rkicdnZWhGjZki8vh7OcbuqjIk5Ox77MjdE0PWghiyFsSQtSCGLKemZ9bq+Rc6eGVRsEmvw3m2PKvKxdRUsk7JLUkUZLt5+OUiPHMO/yqwCM/SK9ik13F34cdSdE6N1uNNKdaURzY+hHcNFxaJyIirVURG3HJane4IchOlu7kNyr0WXadEcfBJkkduxfi5YeMRZGsKyFYqckkE+fkH5GsdeUvxMujI48p1EiWPXP7C1joB0x52erp4ZLvT6YnBgQNOLwyC8MbisHOjRTzkcUXXaXKSd8zOZoTM4WaC/Bxfl6vAs5wbDU1OvR1swEWIJcGk3ljimrnBKfWbMey0kFPg90YDlANQxYJ0Qh27s5kLe4vD/NXJtQz8Cbwx0b0Uka1dS8qF6VGztf3Fl1wEuburcstL0fO0u2vzFldds3Enbt+HMV4Jh0pq4+r42l9uwE90d+EHUU0XfoAgb3vFBbHBuh3XbVm3dDl+bj3eWwOWalueJVere3XFTEsFbnlxneStD+Ntr2G8+YXX+JHnr315Oz6g5/g6q2rxgzvxtu24BVrTt3zxdrzSYHyn8sX1LZtQ4GDdFtes+AEvi+zfZunBr0OLta7foRcGdg3pvJiBvRM3o14gtTZUPgsVZ9ZDncOWmIHd5jps4BqegHnyIHSPgPwYoZiF2sgh+ypct6FiwzJo3h7XShR4Y4cFPY93cV1Rg1ZXgZ9AHIktgT0tFrSiXY/ehPpcLdQxenDlWs869NB8L1oArrSu2GEpnw/9s+Itiw/XowWHU0Xmlj2J0BvtcKob7xfn8m64cCxyE4wiuA4w1dUj1DC/XqwThWx11W1Cdks8snVPZT2PDPahCGPVgrpdiw1+/DaY3SDgRESQdUsBgFtWOQeuCj2Cl4h1eJuIIHMNlbtgDWy2Lq87dOgZF/b68F69bnjdUUAOuLbt27ecXL8crsQjczvxnPjwFdj+yivRyNxO0kox4csPI7IZxSOD77sk5P2kmp1YWoz+SJqMNDkFGTW9tG9rBLkJPykgz2lbLwSfHtdmmMMwqQMNuHKlIVXk4Ftes7lpRZ0enNglIj9E4KORwYvF+p4Y5Ifa6+MjdgAa/NkE5IYYZBi6h+e0LSfI+5WQIXKs0/cmQbYebKkXkCOD2b0Ipzyw31hCrrusfRPMurcFZLjm/th1uYfEhhhkoU40cutaQvVkwsB+o84Qhdy6HAIGIMPAfl0BGWghhCVB9hobhHhrdc0Xlhp3M+L2zI8P2TLIvUJ7LcCHDYEV7UvMnlqYyyWuyg1hd1QIbHMd0Bv9EDOMkblc4mqBOni4Ti8ENg9Qca75XrNHRNbZ3wEIK4ahJCC31e6YY/S7FiPrQbzSa3bXG7taNpiLo5ERQTYCcg/ei+xBHrllo9lSE+llCAaVG8zhV/VB/LjXHN7nff45g3FPwtqdHDns4sdD0yKMXwYKjF+sJQfcGLdvwe2LI/V2481bVsF8WQr1i30uvFmfUKe1tvKFLjKhfLh98yGIroYSXPdC7UzoD91BXHmgYiueCW/7wNIzuHIvgvkHFedACOFDgEDchQ94fcvxLC+5kHkZfvkQxPlNfJ1VDbhlHVmw8OZ65K6Fk5dYdBXg8rYlxeV489aZzShOyZENxcXF4GUB/IKWJj/4F1GvRIkHiqXfhsQ6xVJBekMnVkTCK5Al2rROeFcnVRJNGIZ/6GIsCdaGL14cddEoG0rIv2kxZC2IIWtBDFkLYshaEEPWghiyFsSQtSCGrAUxZC2IIRMVFE4GFRbdK5futJIgj+soBE1QhVw4jtfU2KPThaP5KgwVTeel5hR5lQrXnxx7NAnytBnqjU8vJYpH7ijkD6tpvLmClxMS3pg6kahUlVd55OpTO3JjjyZDnqLKbpTikXMmqrdRBCqYnIA8fdzCjo6OhZOTnaKgCWMdmVduEuQ0Tf2akQvStMWQGbKgYWRDdsZsE9Wczg6KPOqiIGdnZ9MtEUN2yZA8sqHvGHh63EbUmMwO1x0mT/VqgkGP+ChQDbIhZHvKtprqaU2wvLx8lfSYUR65z9Zpy6JZ0h0BQ+XS029Z5OpQVdlsMJeZmXnUlpHEjtVfXgHIbeWepqBbaEE1yA/b3jP12+ZRHEU1PnMgYFfs5X7bsfH9VX+iGNIFw/aAXWo7WeR3Ozufmi3alF7EaEGFjyAvgB/dQaEF1SC/C0b1nccojqKaiuiSLHIIusYQog0YXTD6mzuyyP2zHy4TSC3Hs5LZCRgILefzGFBrMMwfUoNcXTUP9VW9J+8nQa7xeyKPz+WRSY+EknaLKGOwye+OUFPCl4TcL+cYQbb6PDC400AG3iobbTQCcrm7hB9JvGSR+2zzTNWdVOQjFU3+8rBYUkY2HH/KlNzSiJCry7IyjtL8BGQIEa2RqCOLbDluWw2RkIbsN8PgFgNOCsjVVXITbkQDOwQ+WjrpgRYc4Y5sFEvyEduQkZF9nBr8yex4c5U4XpSRQ51y7bdgJOErxIcvKnJ3RUq9rM8ES9Q5YvWZERf0pNrL1fKLJ4/cmuYiVV21OrPMRg1frUF3SdCtuC5bqp5q7CyjTRHdkQqPf7fiuiwh98mOawEZurjcncatCKo+GsqiTmWy9PvDke8ZyQ/s7KOhTLolrsTviXw/jt1jI4asTgyZIfNiyCqkXWR7nljWDvL7H4i5HLSCXFDw4UfZwqf1I0W2/nnhwoXT+M97xjTy++Rpwwf8rdZIkY1TS0tLZ/CmxjSyPf/Dj6bn80N7xMh/yZ2Ym8t/xDWmkRH6699GaS5z35FnoGN/YCMU+LtJKGslfEWJIacuhowYsjoxZIbMiyGrEAXZkLj3ME7GoqII1T1E9j799NPUDHdta9asMUVK8siXT3ys4FjPPxyOk6dEWzRkHThVTbdlPA1urZE+UVWFHH5kYGDgYwpzz9CtM45PTFJRDrn47I2B++he6h51nGobPCd6QUN23jg/cP5TqjHroAN0SiypQr7/QjZa+2O/vO3Pzs1Gn5+MfLgvhxw+8c/rCsjWL74Ec45JQomCXHzxK4Qufk/9/qV18JTRqJNKapCNZ6Ex3ecpyNY8EyBLzSnfy3rz/QrIyGhC6OtUetmrR+jSBSXkqJLa8MVdukCdONzVoU8ijyHk57IyMujaGWmO0MOX+fLATyaaIevgv2C+SURqkZ1067rPbzmGW3RkyL1DV6TGoyLrvhm4TY9fbYNX1lx1fGkSSiqRnTfuM1GtG60pDOyUkKOIFXrZYv/mK+rA5q7Ohnh4RayjClnnPE/tY+70JBO65pCWlhEhX4VRHYk4tPBFVqhnztNnG4QYlB7y2fOfWiwW+ZsI6yCJ2I7R6OXeoZM3b978RDl8Ba5/i4wX6eGrZ+jf8O/3JqGkBrnmxsDAjRsXKBH72hCsf8rrMiD/oHAr0nvzZmrIusvglcK6zH3tuOU4l86tiP1pXrQGbU3x7kulaHO5oFnx7gtm3PDNF/tvBUMWlM5GA0G/XmRhe0MeUq0E5MnT54LUOzuqyIXKyFMFqbpEKb/ZI2E7ifodNIJGaaPB9Fzi1TRl5HQ0MYfX3NijBYJUeSmzg0bcWVOoyqupHbxXcbFprO2Gy5sygyhhc5Dc8TQ01pDvghiyFsSQtSCGrAUxZC2IIWtBDFkLYshaEEPWghiyFsSQtSCGrAUxZC2IIWtBDJlX/hReKqzkT+TPmKpccwwoCXLeuGkLQTkqrEzlz4hPhYjyyNGF01Q9Xy4SpOYUlaaSIqfxBQKiwnjkjpwp5Jm2GnOyGRoRn+yxdJIKWwuTP9FPiqzGbpQSkNP4rkjB9HxQYeKjczGnpprvsRBL+XPHPLKgxC9OoIlqJlqUirSHnMeQGbJUKYJsUEirGCsqsuKmoWjdM2RDyFZGz6sYm6GRgtzfabMdo1lSytAYhzx+Nm0vU6ApEGlhdcj9tnnZfUoZGpuamsyifXnk6qqs2fQsgLqgByzJZ2iMRTaEyihukX6IJBRUhxxSmaFRHpnP0EjN6qaUoTEGWW+zUXrCGvSgtkgaQNW9LJ8IUVBNRaAkLDUoBTmVDI0lHkqGxhjk6iza4OOzzB15VSypDF99nZ2dChkag25/JKubPHKf7T0YL3Rkn9/nk5gVkA2magpy91ILQm/uFmebOmR92epGatdIGRrtQkEeWd/ZmaWQoRFwjZQMjXHhi4a8YHf6yATX0kkNtIjP0KiIjMb3Z2bQMzSS3TOUDI0icn9mZiOJ1XeqlwVk6iqVai83KgVCK9/L8hkaReSjoRDvKQ25hszlN1elhdxfldUYomdorCHJHysU57K+anVGyEabIkK21ZTXZRqyNehE1nKnWFIZvvpXl62mEpOF2edRjtioOlRGm8nEUb+PllNXBTLqDvqCbinb42/mHlvfR2vAwPBNzW8HOXUxZMSQpUoMOVUxZIasRtpF5r4jf9hK+IscYxnZnp+fLxobebpC8rBD+IscYxm55D/jxv1XODBi5NIZM2ZMEe6zxjIyGt7mOPLUozk5OR1jf2BHiYWv1MWQiRhyymLIiCFLlRhyqmLIv0ZknddLssbRZJ2UP8kkFSjIGxUzNLbSMzRGI+sVnOIdk777pArZSHIu3abkgeIzSUZlaJRFLr6snKHxM8cvpykZGqOQN95WSLsG1q6ekVJfqUIOX78v23z9e5r5z86d4oYzNMoihx/5n2KGxkHwkZKhMYJc8MOPP/6O5hPik1850kL2/tCPii9doJlvXROdoVG+l+sVU5zpOBNpQWXk4hM/nVBCtn7xy2BayOTrHebrX9Gtw9iO5BKjzOWUMjT2Dl1JYWBb0CNKyLoi3aPpIcN0vkTLwkmMf+4YzlY4QuSewXPyGRqjw5ciMjieLrLx8sBPCra501+MUi9HEd87ZN1ZhRx5Rg6WgmsOxbmcCnLv0HAOwHuGbD57u9pATfIcl6FxJMg9Qyd//vnnX1JZpO4cMkmFeOLEwLc0yzCTzziupDKwLyogX3OcvHXrVirh6072cvgPRPTJfBp6JnL9u3XDeZmeUZdId1W6kWP32IghS5VGa6PBrwh5GlGHCrsFeaCiCQnIuUXkjdHI0HhnkYuEPUNqdjGIGx8StpOMXobGO7vRIB27+ZOI4icEf3BSvppezs+ZAJqWBHkceSNHzVasyfwZdwh59DRpci5R4hAr5Y/nzk1yjpymCKfEd8RYQ74LYshaEEPWghiyFsSQtSCGrAUxZC0ogkz9q3e/KUWQMzSjRhE5U0NqvJdjjOnu6f8/duHD7+9I0QAAAABJRU5ErkJggg==\", width= 600 , height =100)"
   ]
  },
  {
   "cell_type": "markdown",
   "id": "55634d4d",
   "metadata": {
    "papermill": {
     "duration": 0.00971,
     "end_time": "2024-10-15T01:16:33.697413",
     "exception": false,
     "start_time": "2024-10-15T01:16:33.687703",
     "status": "completed"
    },
    "tags": []
   },
   "source": [
    "# 2=> **Matrix Multiplication** (dot product and cross-product)."
   ]
  },
  {
   "cell_type": "code",
   "execution_count": 5,
   "id": "d783a27c",
   "metadata": {
    "execution": {
     "iopub.execute_input": "2024-10-15T01:16:33.720287Z",
     "iopub.status.busy": "2024-10-15T01:16:33.719849Z",
     "iopub.status.idle": "2024-10-15T01:16:33.730674Z",
     "shell.execute_reply": "2024-10-15T01:16:33.729474Z"
    },
    "papermill": {
     "duration": 0.025374,
     "end_time": "2024-10-15T01:16:33.733306",
     "exception": false,
     "start_time": "2024-10-15T01:16:33.707932",
     "status": "completed"
    },
    "tags": []
   },
   "outputs": [
    {
     "data": {
      "text/html": [
       "<img src=\"data:image/png;base64,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\" width=\"600\" height=\"300\"/>"
      ],
      "text/plain": [
       "<IPython.core.display.Image object>"
      ]
     },
     "execution_count": 5,
     "metadata": {},
     "output_type": "execute_result"
    }
   ],
   "source": [
    "from IPython.display import Image \n",
    "Image(url=\"data:image/png;base64,iVBORw0KGgoAAAANSUhEUgAAAQMAAADCCAMAAAB6zFdcAAAAhFBMVEX////+/v4AAADx8fHW1tZ2dnbm5ub6+vqLi4v09PTd3d20tLSfn5/Ly8ucnJzp6em+vr6oqKhWVlZRUVFjY2NsbGzGxsbY2NiRkZG4uLinp6eenp6EhIRoaGheXl6urq43Nzd6enpBQUEwMDBKSkozMzMbGxsoKCg+Pj4kJCQUFBQPDw/X+J2fAAARNElEQVR4nO1dC3eqvBKdBAQBEV8gUhRR2tr2//+/O5PwSADb2u/Ututmr3OshDx3JsnMJCCAgYGBgYGBgYGBgYGBgYGBgYHBHwT76Qr8BljRT9fgnyLIssIf71q8FVijd/LVSOAflQ4GLl/Ha35S+zUO5V+PryZnnoy1LT8MgoL0e6p4B7gcW2ydXpQgvpN/PW4DTF7Hunc65CAdE42/AeKAgUPtDit+DsB94i8vC7rlET0Jt7arhGMDk4o/LjCufeFTlAP2tAWwibs55zlM3t6eJ390OAgOGBxzsPky2vEAtjy1Lbol5CB9gpC/JAmSEUQFjgyLp86Ub4ARQyHHGHzrx340qbb+Tzfmi6g5WJewmuBl+iLHAnWox+eLKV6EnBp3meJHeYL5Gf/Gh5YDlwuhkcPjD8sBkBzwAr8ssGNRFgQ8flnltuxsDKWmFq8wiTHatOMg4rL7p399PrCwhXyJX3YaB0gAhhEHjKSDQfYCk73OgYUcUPePTJN/BWJdYIdXgA115GYD8FbIW2JOrDkAqGL6mEBGV6eDpCqlsZBhLh6k659qwn8E6Qf76YQ/OwA+3xcxxy/780xoCJKDZizYPC423CKtYXk5IV85z/YXvJXxdI4Ss+Dz7E/OB1jnbJ4+kCjgApnuU1ILrTQWQ9ydOiJSNBV/fLzt4e0oj0OfRCWLC2+KAUk5IbKW8e5PcqBUmml/rzaG9b6wfriBgYGBgYGBgYGBgYGBgYGBgYGBgYGBgYGBgYGBgYGBgYGBgYGBgYGBgYGBgYHBezAH0H8p7tgxDJJldr/iPgcnW0bfSkI/70MWfGNpX4Kz24inB60wtD4R3Q1Dp/7K7PATj1wy8MJQfdZ585li7o2Z4CBYp85HMRHWdDKtu9Z7Sj/Rowyi6eFBCdj8xof655KD4pPR/Wn9xfvco3ZI2GKmXPc5aB9XYvSvn5iCugecmPqny0APYMMoMqMmUM9UoOZg+W5LOtg3cgDvctDWRlSsP3nodW0o6LdZiyXueb2cevk02XRBP8iBuwM/bmuWn47hNtRSsoB58XPexMhOVbWHrN9AtwC/dNuA2YPPemtP4kBxrJrB7s4XueWpgj/ggGmyJL+yNmSEg7aDrgSMc4CRSnBt3sSMlpHPYGmrLcxdSCPruZDd5s4dJyzBy/UGQsnckLtURyq4opcrYBzlGcHFAsKdK54lp3zSBLYT8B+6KEM5CBd6e2arWRcw5ABjRJMy19NE6YJ9wAHMqLa8JWQlmipzXYq0AXY5dl6WAzTCm6GgpLqwFAVN0K6cCGC6l3/oSWqwFmKeOeI0hhfyZRMM5jEEWKXYaas84MBfzZUSUAIT/6mTrTE5gHmy2GoSurgownSNA6w3MOLAITL84Hyh+6KBJxHl6IiWT7A9biZH9QrTbPUH4M+R5ACigJ6uzvMXbLC9ofh+SWl2uShODDubXkRQnahGi06ehnKQzrUysAa7/XscgHUuXG2mcrg7zgFT5gOXUwuJgySWBJ4SgOkMXCc6OQ5ObFx0rkOrsXURAz6iVyg4z2r1vCev5iA8YARMExwxDgq+5YSTKEKZeBCjrSTNJKOXqqSTN4veyqFywN7hgGQJZgW8Mx9AlFX18/k18uO86l71cmVObDmoVwQmpDqdgbWJn/YHpJ7THTdtbiNmCRU3zoGIQALvvEkOgsPqvEfS8hm1onk3D0ptATOsvK1xAO9ygOk33fXoWEB+T2q9jjsUhVYh1Dg4dOsCbz6aGZceAY+plVCJbF9Ez2GjvSZKRZ++VpYYC+4Tq+fEtQ8+1my7FiKUC2pJkEip9WWP0mt5XrBak44D8ZKaoB3xjDjQ5/jUG+Og6pZ2nLPPqhxUWMqb3VztVE6V+SAPwV1wW7bO4llAza+EzB9lr2PVDvyVX5rE0UH0qK6f4jTPFjypi7diu6R5dEcxffESGawpJPzprZFVf7Oljp+GvTlxqfRV+qBzsMNuaDu15cBqa0aRLe2VNQ/Y6ufWFtNebKToBy5OAy64tRC4Ef0Nm1EnPuN2aZYpPE+GasBsgLJpiaKPvbpWz9oJux52DhLtKjUejAV3rygclMPzYVW1IepYaPLIc2euve6K7f0k/Vg/cIpOs5WRo6L+Jlsdzdq4bdaw7FtdTqZHQGRerT/KG7NIVZfFgHAz9x0OLN9XSkGBcny/6zziwD7M9XUhsfsKerjtvi9mTYWgpyu7/WRe73oQAXNy+0HgQi/aIE4/317Oo7ryUOdT1wXOua3oSHqCIRaKiqVxwAZ1H+QzYv2MlDBibX2UhqmBQw6GRoiSC3HwxnF6UXVlNlqzBjQWwniCsHocDBv4Xj5Xo4wZnB9E0IO+YDM5+eJWm8kKCe7v9h/caDeyGzkIV5vN5mD9GQ7elUfiQEys73DQzfMCu/d8KCNJr4c2U8/7w/+WnCVqXbnTkVh/0GkXV/REGCxPHXbj9kITU81+bNyyfvi4D6U3AwyitKlGcnwY2Au23a+L1awtjDiQNxU5cH3HcVyVAy9UvJOazXRSbqDmFYVeW5jjbFlfSiKhRzRRIizHsvTVg9E7tCLVIxwlnq5CYH1IE4vkionftiEDtaSpUFSyzu+ZLk9T0PHS6r0QNhan9diWkF3WK64uyU7uPnR+mqLTE1lnL5AOzsI05V69JCaPlxh2Nqh4oMYUh6axj+vVOcVkWhzrAWzMxoJaB5nOPTS0tDgO9bDHI5Ax8q2zAkvR4OVYmLUhEXbORReEohrhAK23Rqult2DFahK0zKJOjSw6SplqL0w8ssvRQJSLq7TyJ6ILa8Gdk0Q6eVxrfD6K43wLVqlxEDPKZh822Qg7KcrVcSZsvuwcyQALbcqNA37XNcOx0O+McLvvAoa6svjcBSoHNnfSziLpxgLWoPXqoelCMcg0Fh3ocJ7jF1s00Bb188gkYfPtRrGvyX8SqxsbCzE4WZONz0Oyb6iRiIn4zOiFfYV3bOg/5RHZHKdWe5S7BCoHM669vdXKYDPOgYK9OgIZBJjFuB/p2HIwJ9HzH1+xZqWYkZ1TSRIrShGdmRBLM9emblzIN0j61OJMrd+EXqLmnOhddCs0PNOLX5DZPhfGbyxKW2P1/QU8kpH9giGMC69FuWvymBY9Duhlh45ylUfWYTFqM3XwFA8D0RY7vGv4FQ4mcsbI0Yy3ZaDLiQMXu3ZSkRODHInhzlocsMMi+ZrBKdkhgTrwTqG079FSpIkxx3RrbEyBfE7TY4kWMjw54OaWd7axFdSSNEzfXNVPMuAAsVc52Ozjlyp5n4OdvkWT7iB6aqt5hYNcLse+YsOepBw4YbbHxQkCpKfY7FdPZTvs1jSnLacKBwfpsIr2ciwUyFu+lE6z0F4FtEAdfbAOm/htJR0I1hEFBKU/byvd58CykTTQsemswHEOeruI2RzcCj4YC+TTRO05qz0bKAshViUSTiJb1MCRReB80IwrX4SnOyXDh6XIpqir6OKEt0ahnwrVT3ZmLnvwXFfSOwv/DXSzXJ+DaJUtdAZwTHaT0DgH+kyNU0qRdevvFQ6o19N459Razq4qSNzl9qcvXUWkXONg7+zOQlS7UlctDyeKGWXT1H+e0Woi48haiBkQx5FVN2c7D3bQOK/HOKjjqRcf6IlXEnwwJ2JVll3sOglYqZoVXUklTy1lp+8vJIlagzqfQNPzhJB0eqKMMuv2F0Y5uAZ2614bNUHTlRU5aKZCNfueCDohDBDZvYBk+Mp2Z6teYbZDJ4qvFC71xKCAQUaj6PadP/WqXyJdk4NHrd0DB8JoBu+GqXJyJZuxPW3NSJkKCdi9rPv0jiFaX5q12XtdfeIl8Liir8/qDuhB86EMKjv0qozk2eNg6ML5OEbPjyRe1MrcoetuBBStSey6Q8/eWH1dzZr6redQ2IjxeR0f+7u02L2rw6S/hvw47PxSc/DJln0+Zh1dS4DGjP/rXhzv+b53U78aGPyf4JbJ8b/lrbg4bsrkC2luLuMzK96Xs2a9yxvb84UkX8H+VH0c6WuITkf1tGZ+udzanqJ6+v7tCXHg5/uYtlVnLfm5bi6q/Mxp2v+K1fhvRv0LMAg1Dvyb5wNWOwi/GT0OGOtNY/1vSkzd6z+MM+SgNXilKjVq1+ha1r046FVCv2RjN+ogtxd1sKEz4KCLf+WgZ3/b+/4cgLOJO78a2oDypNJ25IA32ujzrXJlzUUHzgs1v2sc+OQpCou52kBMnldo07rluvhJOYA0TJTeslK5ZhzHjOZ4rgqJV9CpUOtFNw5GOSDn0Uo4EtmTIjRo1ftbvoDct3nnSbk/B85jfWrHk/4qOtJH5/sGHDCYyeN0+F+6gqxnvLgEnxgLKOghcjBDgduoJ85cvD9PXaf1QItEd+cgKlbyB6IcucMhjnYu/JFf0GNPZb4Wazd7FlEj5GDLHzYTNdYVOZAcbHDl0zNmUIbC3u6k6QfGAkC2op7yN+IQE3FgBRDMB8ks7olzmqjJHUVU4qBYA5xUJ9K1+YA4sPjCPvYmGto1pA3HTpjupR/oeALYPV7eTrTNTBzEZb46zfrJLI5dj/+35xM/PVuSg8WGfl9IiRWqmyM6Bzgr7HzeK1xQxrSdtXtwcOxVwxPbQJE8tE3zgbP15yO9UfnNdrU8u0mHiq1nbVMfh5HqQ1I2bkJx/hTy3hjLxKlM/LTaVTe+uxzE5XYuineEE9nNXsXdon8+gWLEjnxmwBW/VskS7uNgmDnxJ/QD94G2gKxUowB1wnN1WsHmWJ06Wbr/fOCFzWFvEeo6kfzdxaG3Hm/alh6Vzt5G+uHNaxxQvl7SOzzCMIvIk59dop+YDxQVmDUfw6OUfXdArd01Z4UaXNcTRxwXbPAJ38uBc9jv9wdnZE78lwjFQV8qKepz8El8JwduaNt26N2BA0+U5P5CDtAwiOPNPeRgK0r6jXLQYoSDr7nwxhK9Mx9ccS72A3+Kg6+4PsfxLgfj+GkO6Cvb+rZaG1tc2YleN5dWryjRKuguqJGuelpT46DUOKBYYW+n3dv6qEf5all34eDccuA/kt2+rCr1WEReXk5UfUs5C8LkjxMnc0aHXprl0JoGbwuIDiXvTs5oeuJBdTekEzoht1IsLBS+uDolkM28deecib9/p47BaycHJT0zmUO9xS/qQTLxtiUdWNlDx9vPvjglGZJ1w6RnzBdHB9EIWjy2MReqFalu9tt5SYdDXeUX0Rl5VvAPGiGtrc5gf4/dykrnwOZcnn4UT1cKb9nJgSp39N3jM1Zt9+qUgpikeSo7dSmB3x1YSdTDXkqXurNQ5LdTjo8weOD0+9dofoTHNvTe88FEnD11XsRYsOS5JibNJ871+eBMh8tSLl0myAHJhlfK3/OeKgd9r/hQUkhK/Lvk+liAhNuLNf0gcJfoBzig495noF/Wfcxz8UAvfkJuz7Uz2kIO7Nynn+ouysM6r/2OFMlfdtPJFR/KbhEFsZiAuTJHUNlBTqaq/dQlujMHpTyDTIffIjtZ+Vu6oifroqM85NjUVnJw8ME/km09y+WP0zN4ZGAt4UMOlvFkdZ6qYW2COc09Sfe49b05iGlCcyAQK5Yl6zFbhsnSPbtQthJO/fWKdc93aEBTgDyD5fvkf/biMCnazh3XD4iicAJWqB0OZaxw6UghUjvpRtOdOfDTLILiEMiHRC3h5orKvCy34D8EyiE6XBvzwAM2CzIxWrbCAWtvAqx6gfG7hl2ZD5g4lGnFswTUFTef7OiMZlYowT+mJ/4zfEFP7MFwcC8Ovu34AYzsO9+Mu/iVD9Wnzp9+BVF1UT2G5am61RYr1m93eDySjT1T/a/y1g6RiJJuPodyj2Mo33weqbeTf3uLxt6mZWBgYGBgYGBgYGBgYGBgYGBgYGBgYGBgYGBgYGBgYGBgYGBg8LvwP3MHxdj1T7a/AAAAAElFTkSuQmCC\", width= 600 , height =300)"
   ]
  },
  {
   "cell_type": "markdown",
   "id": "1577f74c",
   "metadata": {
    "papermill": {
     "duration": 0.010235,
     "end_time": "2024-10-15T01:16:33.754060",
     "exception": false,
     "start_time": "2024-10-15T01:16:33.743825",
     "status": "completed"
    },
    "tags": []
   },
   "source": [
    "# 3=> **Transpose of a matrix**."
   ]
  },
  {
   "cell_type": "code",
   "execution_count": 6,
   "id": "53d3e305",
   "metadata": {
    "execution": {
     "iopub.execute_input": "2024-10-15T01:16:33.777022Z",
     "iopub.status.busy": "2024-10-15T01:16:33.776603Z",
     "iopub.status.idle": "2024-10-15T01:16:33.787961Z",
     "shell.execute_reply": "2024-10-15T01:16:33.786815Z"
    },
    "papermill": {
     "duration": 0.025588,
     "end_time": "2024-10-15T01:16:33.790213",
     "exception": false,
     "start_time": "2024-10-15T01:16:33.764625",
     "status": "completed"
    },
    "tags": []
   },
   "outputs": [
    {
     "data": {
      "text/html": [
       "<img src=\"data:image/png;base64,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\" width=\"600\" height=\"300\"/>"
      ],
      "text/plain": [
       "<IPython.core.display.Image object>"
      ]
     },
     "execution_count": 6,
     "metadata": {},
     "output_type": "execute_result"
    }
   ],
   "source": [
    "from IPython.display import Image\n",
    "Image(url=\"data:image/png;base64,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\" , width= 600 , height =300)"
   ]
  },
  {
   "cell_type": "markdown",
   "id": "5801e1e6",
   "metadata": {
    "papermill": {
     "duration": 0.010035,
     "end_time": "2024-10-15T01:16:33.810889",
     "exception": false,
     "start_time": "2024-10-15T01:16:33.800854",
     "status": "completed"
    },
    "tags": []
   },
   "source": [
    "# 4=> **Inverse of a matrix**."
   ]
  },
  {
   "cell_type": "code",
   "execution_count": 7,
   "id": "162f67ee",
   "metadata": {
    "execution": {
     "iopub.execute_input": "2024-10-15T01:16:33.834142Z",
     "iopub.status.busy": "2024-10-15T01:16:33.833723Z",
     "iopub.status.idle": "2024-10-15T01:16:33.848289Z",
     "shell.execute_reply": "2024-10-15T01:16:33.847035Z"
    },
    "papermill": {
     "duration": 0.029334,
     "end_time": "2024-10-15T01:16:33.850788",
     "exception": false,
     "start_time": "2024-10-15T01:16:33.821454",
     "status": "completed"
    },
    "tags": []
   },
   "outputs": [
    {
     "data": {
      "text/html": [
       "<img src=\"data:image/png;base64,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\" width=\"600\" height=\"300\"/>"
      ],
      "text/plain": [
       "<IPython.core.display.Image object>"
      ]
     },
     "execution_count": 7,
     "metadata": {},
     "output_type": "execute_result"
    }
   ],
   "source": [
    "from IPython.display import Image\n",
    "Image(url=\"data:image/png;base64,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\" , width =600,height = 300)"
   ]
  },
  {
   "cell_type": "markdown",
   "id": "abba9b2b",
   "metadata": {
    "papermill": {
     "duration": 0.010388,
     "end_time": "2024-10-15T01:16:33.872393",
     "exception": false,
     "start_time": "2024-10-15T01:16:33.862005",
     "status": "completed"
    },
    "tags": []
   },
   "source": [
    "# **3- Basics of equations**"
   ]
  },
  {
   "cell_type": "code",
   "execution_count": 8,
   "id": "0c7d9079",
   "metadata": {
    "execution": {
     "iopub.execute_input": "2024-10-15T01:16:33.896153Z",
     "iopub.status.busy": "2024-10-15T01:16:33.895592Z",
     "iopub.status.idle": "2024-10-15T01:16:33.906233Z",
     "shell.execute_reply": "2024-10-15T01:16:33.905101Z"
    },
    "papermill": {
     "duration": 0.025902,
     "end_time": "2024-10-15T01:16:33.908979",
     "exception": false,
     "start_time": "2024-10-15T01:16:33.883077",
     "status": "completed"
    },
    "tags": []
   },
   "outputs": [
    {
     "data": {
      "text/html": [
       "<img src=\"data:image/png;base64,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\" width=\"600\" height=\"300\"/>"
      ],
      "text/plain": [
       "<IPython.core.display.Image object>"
      ]
     },
     "execution_count": 8,
     "metadata": {},
     "output_type": "execute_result"
    }
   ],
   "source": [
    "from IPython.display import Image\n",
    "Image(url=\"data:image/png;base64,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\" , width =600,height = 300)"
   ]
  },
  {
   "cell_type": "markdown",
   "id": "ec45b36b",
   "metadata": {
    "papermill": {
     "duration": 0.011061,
     "end_time": "2024-10-15T01:16:33.931678",
     "exception": false,
     "start_time": "2024-10-15T01:16:33.920617",
     "status": "completed"
    },
    "tags": []
   },
   "source": [
    "\n",
    "# **4- Linear Equations**\n",
    "### A linear equation is an equation of the form : a x + b = 0\n",
    "### Where:\n",
    "### => x is the variable,\n",
    "### => a and b are constants (with 𝑎≠0).\n",
    "### Example: 2x+3=0"
   ]
  },
  {
   "cell_type": "markdown",
   "id": "c0b88f64",
   "metadata": {
    "papermill": {
     "duration": 0.010669,
     "end_time": "2024-10-15T01:16:33.953852",
     "exception": false,
     "start_time": "2024-10-15T01:16:33.943183",
     "status": "completed"
    },
    "tags": []
   },
   "source": [
    "# **5- Slope and Intercept in Linear Equations**\n",
    "### In a linear equation, the relationship between two variables x and y can be expressed as:\n",
    "### y = m x + c\n",
    "### Where:\n",
    "### 1- y is the dependent variable (output),\n",
    "### 2- x is the independent variable (input),\n",
    "### 3- m is the slope of the line,\n",
    "### 4- c is the y-intercept."
   ]
  },
  {
   "cell_type": "markdown",
   "id": "d75f2849",
   "metadata": {
    "papermill": {
     "duration": 0.010564,
     "end_time": "2024-10-15T01:16:33.975974",
     "exception": false,
     "start_time": "2024-10-15T01:16:33.965410",
     "status": "completed"
    },
    "tags": []
   },
   "source": [
    "# **1. Slope (𝑚) :**\n",
    "### The slope of a line measures its direction. It tells you how much y changes for every unit increase in x.\n",
    "### 1- If the slope is positive, the line rises from left to right.\n",
    "### 2- If the slope is negative, the line falls from left to right.\n",
    "### 3- If the slope is zero, the line is horizontal (no change in y as x increases).\n",
    "### 4- A vertical line has an undefined slope.\n",
    "### Formula for Slope : M = y2 - y1 / x2 - x1 "
   ]
  },
  {
   "cell_type": "markdown",
   "id": "dc25fcb3",
   "metadata": {
    "papermill": {
     "duration": 0.010718,
     "end_time": "2024-10-15T01:16:33.997838",
     "exception": false,
     "start_time": "2024-10-15T01:16:33.987120",
     "status": "completed"
    },
    "tags": []
   },
   "source": [
    "# **2. Intercept (c)**\n",
    "### The y-intercept is the point where the line crosses the y-axis. This occurs when x = 0, and it represents the value of y when the independent variable x is zero.\n",
    "### Example:\n",
    "### In the equation y = 2x + 3, the intercept is c = 3. This means the line crosses the y-axis at the point (0,3)."
   ]
  },
  {
   "cell_type": "code",
   "execution_count": 9,
   "id": "5ab2272f",
   "metadata": {
    "execution": {
     "iopub.execute_input": "2024-10-15T01:16:34.024070Z",
     "iopub.status.busy": "2024-10-15T01:16:34.023154Z",
     "iopub.status.idle": "2024-10-15T01:16:34.030972Z",
     "shell.execute_reply": "2024-10-15T01:16:34.029743Z"
    },
    "papermill": {
     "duration": 0.023972,
     "end_time": "2024-10-15T01:16:34.033256",
     "exception": false,
     "start_time": "2024-10-15T01:16:34.009284",
     "status": "completed"
    },
    "tags": []
   },
   "outputs": [
    {
     "data": {
      "text/html": [
       "<img src=\"https://www.mathematics-monster.com/images3/linear_equation_graph_slope_intercept.jpg\" width=\"600\" height=\"300\"/>"
      ],
      "text/plain": [
       "<IPython.core.display.Image object>"
      ]
     },
     "execution_count": 9,
     "metadata": {},
     "output_type": "execute_result"
    }
   ],
   "source": [
    "from IPython.display import Image\n",
    "Image(url=\"https://www.mathematics-monster.com/images3/linear_equation_graph_slope_intercept.jpg\" , width =600,height = 300)"
   ]
  },
  {
   "cell_type": "markdown",
   "id": "4ad22c9f",
   "metadata": {
    "papermill": {
     "duration": 0.011119,
     "end_time": "2024-10-15T01:16:34.055632",
     "exception": false,
     "start_time": "2024-10-15T01:16:34.044513",
     "status": "completed"
    },
    "tags": []
   },
   "source": [
    "# **6- Polynomial Basics (كثيرات الحدود)**"
   ]
  },
  {
   "cell_type": "code",
   "execution_count": 10,
   "id": "e968dd93",
   "metadata": {
    "execution": {
     "iopub.execute_input": "2024-10-15T01:16:34.080607Z",
     "iopub.status.busy": "2024-10-15T01:16:34.080177Z",
     "iopub.status.idle": "2024-10-15T01:16:34.087394Z",
     "shell.execute_reply": "2024-10-15T01:16:34.086378Z"
    },
    "papermill": {
     "duration": 0.022108,
     "end_time": "2024-10-15T01:16:34.089545",
     "exception": false,
     "start_time": "2024-10-15T01:16:34.067437",
     "status": "completed"
    },
    "tags": []
   },
   "outputs": [
    {
     "data": {
      "text/html": [
       "<img src=\"https://encrypted-tbn0.gstatic.com/images?q=tbn:ANd9GcTxbGbppLtakoCNg1Uil6zaFg5K5lwC9_HDgQ&s\" width=\"600\" height=\"300\"/>"
      ],
      "text/plain": [
       "<IPython.core.display.Image object>"
      ]
     },
     "execution_count": 10,
     "metadata": {},
     "output_type": "execute_result"
    }
   ],
   "source": [
    "from IPython.display import Image\n",
    "Image(url=\"https://encrypted-tbn0.gstatic.com/images?q=tbn:ANd9GcTxbGbppLtakoCNg1Uil6zaFg5K5lwC9_HDgQ&s\" , width =600,height = 300)"
   ]
  },
  {
   "cell_type": "markdown",
   "id": "8e9781a1",
   "metadata": {
    "papermill": {
     "duration": 0.0112,
     "end_time": "2024-10-15T01:16:34.113070",
     "exception": false,
     "start_time": "2024-10-15T01:16:34.101870",
     "status": "completed"
    },
    "tags": []
   },
   "source": [
    "# **7- function basics**"
   ]
  },
  {
   "cell_type": "code",
   "execution_count": 11,
   "id": "cba75850",
   "metadata": {
    "execution": {
     "iopub.execute_input": "2024-10-15T01:16:34.137568Z",
     "iopub.status.busy": "2024-10-15T01:16:34.137131Z",
     "iopub.status.idle": "2024-10-15T01:16:34.144393Z",
     "shell.execute_reply": "2024-10-15T01:16:34.143336Z"
    },
    "papermill": {
     "duration": 0.021905,
     "end_time": "2024-10-15T01:16:34.146527",
     "exception": false,
     "start_time": "2024-10-15T01:16:34.124622",
     "status": "completed"
    },
    "tags": []
   },
   "outputs": [
    {
     "data": {
      "text/html": [
       "<img src=\"https://www.wikihow.com/images/thumb/1/10/Find-the-Range-of-a-Function-in-Math-Step-1-Version-2.jpg/v4-460px-Find-the-Range-of-a-Function-in-Math-Step-1-Version-2.jpg.webp\" width=\"600\" height=\"300\"/>"
      ],
      "text/plain": [
       "<IPython.core.display.Image object>"
      ]
     },
     "execution_count": 11,
     "metadata": {},
     "output_type": "execute_result"
    }
   ],
   "source": [
    "from IPython.display import Image\n",
    "Image(url=\"https://www.wikihow.com/images/thumb/1/10/Find-the-Range-of-a-Function-in-Math-Step-1-Version-2.jpg/v4-460px-Find-the-Range-of-a-Function-in-Math-Step-1-Version-2.jpg.webp\" , width =600,height = 300)"
   ]
  },
  {
   "cell_type": "markdown",
   "id": "e4a77ade",
   "metadata": {
    "papermill": {
     "duration": 0.011002,
     "end_time": "2024-10-15T01:16:34.169422",
     "exception": false,
     "start_time": "2024-10-15T01:16:34.158420",
     "status": "completed"
    },
    "tags": []
   },
   "source": [
    "# **Types of Functions**\n",
    "### a) Linear Function , Example: f(x) = 2x + 1.\n",
    "### b) Quadratic Function , Example: f(x) = x**2 − 4x + 3.\n",
    "### c) Polynomial Function , Example: f(x) = 3x**3 − 2x + 1.\n",
    "### d) Exponential Function , Example: f(x) = 2**x.\n",
    "### e) Logarithmic Function , Example: f(x) = log 2 x.\n",
    "### f) Trigonometric Functions , Example: f(x) = sin(x) , f(x) = cos(x)."
   ]
  },
  {
   "cell_type": "markdown",
   "id": "5e6d24eb",
   "metadata": {
    "papermill": {
     "duration": 0.011143,
     "end_time": "2024-10-15T01:16:34.192167",
     "exception": false,
     "start_time": "2024-10-15T01:16:34.181024",
     "status": "completed"
    },
    "tags": []
   },
   "source": [
    "# **2- Calculus For Data Science**\n",
    "## Calculus plays a crucial role in data science, especially in understanding and optimizing machine learning algorithms. "
   ]
  },
  {
   "cell_type": "markdown",
   "id": "3853575e",
   "metadata": {
    "papermill": {
     "duration": 0.01109,
     "end_time": "2024-10-15T01:16:34.214646",
     "exception": false,
     "start_time": "2024-10-15T01:16:34.203556",
     "status": "completed"
    },
    "tags": []
   },
   "source": [
    "# **1. Derivatives** (Rates of Change)\n",
    "###  Concept: Derivatives measure how a function changes as its input changes. They help in understanding the slope or rate of change."
   ]
  },
  {
   "cell_type": "code",
   "execution_count": 12,
   "id": "a8de639b",
   "metadata": {
    "execution": {
     "iopub.execute_input": "2024-10-15T01:16:34.239197Z",
     "iopub.status.busy": "2024-10-15T01:16:34.238774Z",
     "iopub.status.idle": "2024-10-15T01:16:34.251208Z",
     "shell.execute_reply": "2024-10-15T01:16:34.250107Z"
    },
    "papermill": {
     "duration": 0.027795,
     "end_time": "2024-10-15T01:16:34.253760",
     "exception": false,
     "start_time": "2024-10-15T01:16:34.225965",
     "status": "completed"
    },
    "tags": []
   },
   "outputs": [
    {
     "data": {
      "text/html": [
       "<img src=\"data:image/png;base64,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\" width=\"600\" height=\"300\"/>"
      ],
      "text/plain": [
       "<IPython.core.display.Image object>"
      ]
     },
     "execution_count": 12,
     "metadata": {},
     "output_type": "execute_result"
    }
   ],
   "source": [
    "from IPython.display import Image\n",
    "Image(url=\"data:image/png;base64,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\" , width =600,height = 300)"
   ]
  },
  {
   "cell_type": "markdown",
   "id": "5aa8a296",
   "metadata": {
    "papermill": {
     "duration": 0.011156,
     "end_time": "2024-10-15T01:16:34.276789",
     "exception": false,
     "start_time": "2024-10-15T01:16:34.265633",
     "status": "completed"
    },
    "tags": []
   },
   "source": [
    "## Application in Data Science:\n",
    "## **Gradient Descent Algorithm:** Derivatives are used to minimize a cost function (loss function) in machine learning models, such as linear regression or neural networks.\n",
    "## The algorithm computes the derivative of the cost function with respect to the model parameters (e.g., weights), and updates these parameters in the opposite direction of the gradient to minimize error.\n",
    "### **Example:** Consider a simple linear regression model : y = w0 + w1.x\n",
    "### The cost function (mean squared error) is:"
   ]
  },
  {
   "cell_type": "code",
   "execution_count": 13,
   "id": "f68ef01f",
   "metadata": {
    "execution": {
     "iopub.execute_input": "2024-10-15T01:16:34.303182Z",
     "iopub.status.busy": "2024-10-15T01:16:34.302786Z",
     "iopub.status.idle": "2024-10-15T01:16:34.314043Z",
     "shell.execute_reply": "2024-10-15T01:16:34.313032Z"
    },
    "papermill": {
     "duration": 0.027076,
     "end_time": "2024-10-15T01:16:34.316191",
     "exception": false,
     "start_time": "2024-10-15T01:16:34.289115",
     "status": "completed"
    },
    "tags": []
   },
   "outputs": [
    {
     "data": {
      "text/html": [
       "<img src=\"data:image/png;base64,iVBORw0KGgoAAAANSUhEUgAAAeAAAABpCAMAAADVwgADAAACQ1BMVEX8/Pz////9/v/9///+/fz///z///b//fz//v9qamqxr7EODg69vb3///T///r5///09PTMzMy0tLSIiIijo6OSaTRhL2Du///p6emCgoKz0OxrTSb/8sVFOluSkpKq2f+3f1vrvIjl+v99qcf/7b9KGTN/tuash2FsJk6jxd+5hUJfkr7//+twpdf/+eH/99aviXGi0ORWeJ9Qi8PNnmfVso/m0bCJakX/1KT/8OGYcG645fv43sS31uiceE768+tlgbQ3VYbe6vbHpnd1OVI9e6z/4LishVbi///L9vrny5aGVTeTyOUpUnLju5BSVnVGT1nv49BqWUU/ACqRWkwoaKZlLFpQaZCn1+Z9W1D1687e19PU2uI2TWG3n4NlZmjR6PqjuM3XzMASP2aokoNgPQI1JU6cXgUAJ3aLXh5VFlQAFkpeXlwlN0efnq+2w9kkJiaytctdT0tUSVBoS1bCl3Q2U5J0gKGMfXVaUmAtAACAjqtfADuooJfDwK90cGdxdoBlcIMAGDBNOB9Wd659XG1IPDhKLGJ8iqCRf3uMgGZBNENeaW/PuZ5LT3GWaFBwQDqVrc+DXk0cMG5yZo6gYDoiPVUrGh2HkZVDQ4C7iUsbS4BSRDqoo3xURXFqQz2GPxeMi5nKr3I1Wp4cMlF3Wlp0c1BmR2VoLiHO4MkmACKOrbcoADMnGjdphZSfdGVOLyhgUipzZYHHnYiPvLegmrSxq490JhKTYm1bQyiAQCxJKBh5JkI9QE1HaIU8FUU8JAC2PjQrAAAVY0lEQVR4nO1di19TR77PzJyTCEtOHmBDohYMLmwaHhpINJJ49FB5FZF4l6IJYkBqt12LVI3icnm1loIYENT6XFtbuba39bHtvb1r9+reP+3+Zs7JE7D4aLvCfD+tJzlnHr/5fec385s5YX46HQcHBwcHBwcHBwcHBwcHB0c2CELCby0Dxy8HfU9erkJ+ayleBNBDKQSM0IsUs1R2jMTsZC/FJGgRCBlevKDFkEaoVNhwOPhCmknHIlpKv5XdkUjiGfuAGVG02dqHZUEM9ebk5JyfdfrXttueU2wq5qZ/KzEtdj/wTlEaw3j9EYf07m7zizKMZUXQ6Wv+1PiLMCxElFRN+uIn0Zc1RmP/e6VZxOD17yf7j1BoznhGNv7ZxZ6RwDsVCPu7cnKOuk3G4g/OA2Wnl8cW8h7qNiGpp0+Re44txtCyIOhwZW4nSX1NXklgXSbBGxxizzEsZGTOKms5YrdWI52h58MX6JJPgbTZlWwLrjrgtr08gteqBKcKxOtfSxIszWj1ao/Jxv52VrfUcKUC6cvcNhT60KQv9tiWbcG4/riLDpgIq0MFzQXfKQH0f0I/ayWxe0i96rCOjRhMEEIfsOyY0OSCeosNKgIjmGVDanM2OLRhhpauZVYrYV8TLk0iS+JBoktgtXRjrBqp4hEhkUirW02EU4IvAJ2OBLW9hDWYXdPmjXSCSf3NWYKTDxMt02kyaXJpCRKSIq1liRxEa4tKsFYY+1dgBKutwpXzQZJUCSO47QTtEKT+xNEKVHXSQSXXAcHOpKxE1YeWZ2GLjbFd2iiHy3dUh9+C4vR1p0yh3tGR0woKnywYGDnjYoYthgZGRyaCICIMFvJPW4wN1bG/MC2Ht4+ODDqr/t2FajxDA3uDcTt8lby7hidHxqIICEbGeI59lOmMEfyG2+TbMDwwMhYkoloT8ffmjIw5UNWBkh0ftVBdyF059DkJnTtvH/q4SF981oYrd1SIoc00vVh3/KDdbn/UjiQmVhT7t5b02o/Omljv8/fu8zhR+JOgoEv6GKqjwVriPbrXMpR/vKQnf+CMw4T18fyR0z+O7E0NxOkES97xsfxDLqyq0/dpk4De6FBw5VsVKHSOVs1qpC3MmcW0NR4FbTsIetsbZCOXwTdiHzltkyEBlEIJ1tO0g87mG4pAajqcQLAYmKR3Auemzo86aLE5g4qBEeyJT0eB+JmSMiD4wpOgGZqgWbDaSXoGciAn9m+moiycJnFl2VmTNnuXl1VLsbM25J9p8c+UENTqcYYvlDhR6x7aBhyaazEh796ofwcl+I9bjHVHT+fRNpRD3fqIs+oPQPCeKGo9OEvCcy2id4PLZGw4a6IW3NoBRB+qFdIIPgkTQ41HSdbUB6SdslXNtfXlKdQE4Bmq/z5aPuN2ojgleCcQXFYqxo+Z9JdLTCAsQmJdOwocaCGSt8Pp3woZfHcZpWKsxdtWi2ouUsEl3+tJzJqZCJd61oFANf1uRX/Z45R8p231jwbj48nZkUibHUgzMVwe27CFbLyhso/9b7VAL9wbRIGTtZVbS02S10NVSlp3RZG/U+j5ENpcbdr22axJD7o00C5xxoGMFhs0EDVPK5Rg33QQyZ2m5l1A8EYPJVjfc4xUzpSi9W8HEQofcBFjzE1Ugs3QWDAWGyhZqrvywf1u5xp98cGr0BYmqhgPUm3rYUBDEcWfl+3vqwTjyt5Dx0upzupBGqjYd0sxm8EAwm/uR3gTzJq0I19zGmgHrEwSfM1JHWQooiNqRmsYwbsxqW9zILmhGnmvNRqI77UmILhqrtRspv0gjeDXmgSSrOkkDFII+U420fmOmhmuetMFWWZK69tqRTrKJwhG1CBrditUWBhr2iXvKZuAQ2+1gLYRUz+VqK9wB/TUd3fTrqIzF6bA2hxw+f5RhITrNxQwihKbPi+KfDeLQsdUz89MsdnFLozStbsR2vjnLSr75aDJbR1/rRC97ch3q8lsDtxtMkCNwA4bhcFQNnY0btsTFUnrXniig8Y62dAJDQR1ggKZ6JAwjWDaeglaCAQT0trhNJt9t+jASh/X3w2CyVHtYb3vwXj/WRtYsKK1hRULBRpj00EzEfDC5Uk562cYaRVLxW5TcYmpeYM9Pz9/QkkQDAJJde0wzwJzKYLb1TaTwLmbn3U7FyU48HktsBPYNwbF5bsyCTZQgtWabitIjuR1bQCCS7WpemoU7l91UC1lEIxkS15ZimAmBYZRhRJMVIKhOb5HLWj979XxasEQjY11f2pcU/6FG5Ntj1101WaMbWhSH8LUQEU9Tmu/TZ1OEloHlV5PrJSAtsZYqa/DuKNU9E5dpamioL/APtWTZNJ1OIFgIUHwu5oU0MAfX9uvWQi9kU6wIOcNz6gE62PTrFg6zcJjRd9w9kuPUzUPhPxddDSD+SfhbYghy/DWahQY+PizbmURX5C0HqT0YY1gqDVEjfiUk+kjneBWaiowAS8gGFoV6frMsbgFv61ZcGLhtoBgrSafvS+D4Kq3Hex+a1tUSBC8prysVB8fzbWkEayv+4ow6dMJht74aRPadodNpFLcnsSgWSVxbTs0658whcSmmyw2WfE3fGWTeph+2GwlbnYkBCbN79eCocP4ryq0ar57ezQ8v/+TKPLeaqSJDPTuHPOFDEy6TIKhsXRICgxczRtmBIOvw5y0NIIl7/0PLRrBqO6sLdEXKcEoMH/URZgFU5eS6SLlZOl/uG2lBEP/iW9wkUXcSin2JAqNCqkEY3n7f4Cp+OdaQPBCnEYwNUbg4W4tm/1CF1IEi2aMqu4uJPhWE9LXsTlYikGXkwrNwkKCWU1SoQQzDfJNJQnWoesw9xoKzZvAyQd7LEI1ZxtRaGtpYK4oY4imcyGig6U/g+Cai4362B6HqgZzCipJ4a+hw9UcdoADWOHzyGtPfQOrzPpLzsWcLOijtYhagWxmfhaKtbmxPnYeHMPwXClBMhsq9bSFcqH/Akhbk0EwaZ6OQgONsZ0E+d6mBItedgf7bsGlhhG8Hj6WQxeGbi3iTSegd8mF2hysCGKrm/btCuQ/ZoKmTjeqFqzaC9SEKqHHmE2o/IJLn7WOZq2FHt5ntZ4bc5QDK9D3/xMGG8k3+a21d1AJ/4ESfIR5HNR2hiddWAzMf2t9/WSKYLnram5viepF7zaR+scawVNQBPWi3ylClZO3rUOjQUHd6GAEv08JvqFoNTm9Y7nW3pQFg083OQFZwExGC3J7Py5C4QH4vq+ivMwDwnYoknevtRumDUTFGgKxMggWfSe/7brpaVx8+UqaLwaRsRj8LP8Oz1BQ3vGkd+DJcL4j1f3TCMZybGLI7kB6bUYnzd+1ELLt3qwJuB/pA9npUhxXgni9g+ay+1ZrF8zBhynB05Rgnewdow3xnfnWOnR3P93oKO8ayx2aUOTN960F54Dg94OVDyBfGcyuZfcLHChuL7D2zpoSBNP9OlzeUIF8I/dzh0BMY/Geb61WK90DwJUHJqzWrdXGHyZyQYuLbjZhUY5YLJ2KTopAYUS2UIFhLrF0mmHsdYKEnar3Qe8psNYSIbkScYpyp+apQ/5Ok8EYUUiokyZXdIaIInqvfQPpiE6GYjFNos4QRriGFCx32kB3neZETRIkMEec+khiHkFUKgX6GjygjjgIZikspHO1pdPYqWMlQl06VRzMqqH1astR2RJfV7HEOhj7oV4p0mnSiTJtkRyBqi1KWuqMdbDMnom+206tAWAlRovCHlHZtX4QURVm6QQHmaoMWmdSLYgKmGigQdMG5CdaYiiQqlCBj+wKCoVitfVeJ9YkgnxEVptKW2yhSVi9cEtWKIedTqSKtbBHa0O+6mWg5D1twyK5A5DYg6BXOh0kNIKTaYm2TwK3wOtu1CYSIS1vchtFdYaEVE10jzq1O5DKAqWz3U6tVloZy0wSImj7LThZF3T871rEuiNNS21jYqRtjrBCWNUkw/80/BBMLTewmiju0G4hXVInBCWbhZO7xTqUVoEuKSDbhBc0MTXNIMS2aNQk6kZSmkp0aWVoWk2qJLmTRYsiQuLRr/jeSwy9tG1E7B+OPtOWM7q+J+o7XvICbwjwmuw7YuFz7+OuUCy5Ufg8RT3bKwUcns8ZdZlebm9+pd8YrjRghPhbeg4ODg4ODg4ODg4ODg4ODg4ODg4ODg4ODg4ODg4ODg4ODg4ODg4ODg4ODg4OjlUGjPjP6VcySGjoWE9Bt5MzvEIh53rvzJafdPG/UXrVQaSFfyYPkC2xDmfVXQcn+NUGEUOT3YueyVg+4zbRExN+dZE4XiKI79DI1BKHbq4rlYoHh4J8En6lQZLHL2U/8E01GYvH+riX9YoDb1qcYEHuNGF6AAnHq42lCFaPH+Xr4FceSxPMsSKwkOAFCyO0vDOtfyE87aBkjp9HFsGk9S/97IB1DUdv9v+u/8pSR3D9GvL5ewfOuH6z6l99ZBPs3/r4cQVao8FgjliG5/pPLXGI3q8A5J1FdRdfWpCBVQeMKMFpBkoC+8Yfu1BaAiR7H7ZoR2out9gXs3htSGYX9O5uZ+Cd7MgPqwL0gDgtPETq6GD6SVVM5pnCSwD787qm7ud1ptkwah0fn46mT8QYtXaw5bBsWeaqGPV0PlNTkvmYtEKIhcPAIXqwIfHOmkKrkmApbn89XztGP55vn6DHVhJj3G53hbqxDtXZ8/PpkcL5E4sdq5wAlvMsFksGwdhYNjXucaafxYb1vXRDC8UGlxeugwRGn2tMRd6r+fTI3PB2duZzaDKonjled3h1DtHrv+7Xztp+eK+W3sCBObfTv2OqhBqA75HHaTbLDTeeqpz0cyATt/xbx7O3L9lRk/V7l6dnXHmgZfkWlx6RRq77jgZC0GoSvR20QyH4tgoNGNSwbfpv9KxtHJ782ykaLwGXX3abBLLpU9rxRe/DCnpMaNX3z9z7ie/z8TuObJ3i8pnS5b1akoCYZR/GaMxLG/bl66whOqmYdjA1coAYuO0MrEoLRjXutfQMa+MP//VTNT2Gl2w74kICDjNKjbH+IlFXaArfftoQvUTJdf3jT6Ji5k3iO17LDuNlk/rThn2/eoi/Gl1OSJ68Sy8LPAJcub02eQvL71Wrp8g2n6K0S7GORhSYn7A+aMkSZjUAlz9wNJyygeJnm++1qAemf+TuNBMj9U2wf+21RgRch//72V8XYKlhfNyTlc9Yd42Gu5AinWZgohAvmZsE3qScyZFCkxyJKGJhhB0yLRVGFHpUdWapmQSDRx+hR0eT0IUtIu2xBx2oAVbj39euQgsGS22MXWxaY+yN1qgxNHB4XX/baF9U/fzW4YKCc24bTphPCj9fNgnNjX9QkjUzl7HhIn51XwmiR/ovqXLU/GmTAXzAH+9eLbCe81gLrAfcWCfG+378/urQCVdmz8ggmGy8d986MGgC/4pFTMObplw/vxJYqSA+j947VYtaK4yXtWiDJNR7s7+f6Z40X6ko9M2XarqRuw4l9qYOJd7vowVIFY7qx8fv1KaPizDwwoSPA6cLYRitmttpE9IPSE+nAX25SxGwf/Kbr59Ekfeh2ynWnLKReo+z8n/cXua9JQ9LBwDByazo+h4H5KgV1Mp0uOp/V/E+ud5bIXkfFm261Ljp80FmT2YzTHfhmcc05A164+J+VPn3WhR3qAFwFvBY+LtsFKQzXDc+3pFupYSGgNOJoWgz+HC+R6Wo8qcSZow4ZElAXfyimnazgCuP1X/mUgP4wMyKpZ4oqj/i0neC02y87GaHp8s0T898N70oLHrUBbdNiv+jVOQEA+TNW0DRs11B1DrOQloY2a8vJO/jIupjfbFLoRHIqj5RT49fSLDZmpeFSBrBWC67kqFcFuOPmuv1DoWNHJIWspTErQkcYzcYwZCwDiZQ/46vTHj971uQAH1v42GH6nSpObE/D/IMz9OIG1YWba7+xKxJjt3jFkwBY2AUBR6NzZqMMWaz2L99P4yh5WVnG8EXWv+QBTARW1nMuGceotmITISsG0izMhmcO9/AoGbgJKsA9CV1gXH55g4nCr1TgVDNrmg86u80FoNnDoYc6p1wprbd0oZosq2tCPnfazcle1PVm67VSjBGzaC/wL6OKKosm25iy+EvPArSe8/U0ogeG++UmBCS4yc1F+bZnCy6nbUz24tmThYQXGIKrKv29zV3LLE4pREtaXS0ddUENf9zC6r6ozt8qXxmT96jnbbAaFQe8p1xpBznNCeLhVCquwXFJp2sxwuW46sE4E49+mC0tmquxdg78PGd+0GiI62DP9rt9tvgUBOffd9H5/Pt9pH/a396KAeiEo6ziMfGug4la+lJ48oY6OXQ1XP3WuTCYvcSxoVDF/ZDH/M9LBIRDZhojB0cDcIwMzY8f/V20CQUxjy2RQkGt+J8/kQUJ1dasExajesjFTSwGRbof4kQZwL7zN40CJmxz5YE2Xb0+Pgswf6u421HZ9MiZXlvOTP5FWjoZZgJBLnQrLt+A2aH40VLFJ7Y6DDTyQHSYIPZjHTwDzHTDzSmlyG5VsogmMqtvimpO0vXy/rYzl8mIvYKws8YAJF3jD+JGjCq8ThT/KL4mWDmIlim0bHAZoGdw010lKbxkhf9PTVAbJ12Lr1VKfpufdPnTH415mbGEGKBkowsNDgOzxetwh2slwocHn1Ag1qimjT7Rb7jmX/QgPW9MGvi8Cc0/nWFsQHWuaL3YN9SG8TYWPyUXWviO/N6ek68sC+gjWyFJtV5VquL9dJAWkvqr+x2rqn6e9p+UmBf5utXogV/Rr7TCvLZR2dtyaBliwM8/Kf8yQtG+OnjCvGNsb0aqG7VzsAvC6jBZbx8uBbVX2pMGBIJH5hN4w7csFDvxyrjNCRtWni7paG+q39e6HvYiw6xJ9vP43hmGLc70JdXKlCrO7nxWPnAbUpbUsnDA/vGL2pxEclyLerFfgepVbPs2jiWAt50qRH5t95oipVqxoIrN/f3Z2xg9gOqV+lq9JUH2Vht0sEStXuyKWEtodxFsCrft68E6ItL6ZbEzRO7U69p8ZqFeLZgmRz/KsBV83RTsXym353hE2GU8aJwVb6NXQnAyHerkUZsbj6ScVID9hek/VUw8g/xEfqVBK4aOXp07BgBE57MoJCEb6e+G34YaOP7Sa8mkq8YMgdhIZSnZPy4o83BCV5BwP6hrrO21EIYc4JXFnCgu6xa31OgottMOMErDCTweW1qK0vgFrzSILa2h45lWHAR38haSZAaSnqjKQuOeB/PPt/fCnL8awK86LTX/YYe+nNJvhBeScAZv8sjy/ydHgcHBwcHBwcHxwrEwr/E4VhJ4ASvcHCCVzj+H7Sac6frM5X0AAAAAElFTkSuQmCC\" width=\"600\" height=\"300\"/>"
      ],
      "text/plain": [
       "<IPython.core.display.Image object>"
      ]
     },
     "execution_count": 13,
     "metadata": {},
     "output_type": "execute_result"
    }
   ],
   "source": [
    "from IPython.display import Image\n",
    "Image(url=\"data:image/png;base64,iVBORw0KGgoAAAANSUhEUgAAAeAAAABpCAMAAADVwgADAAACQ1BMVEX8/Pz////9/v/9///+/fz///z///b//fz//v9qamqxr7EODg69vb3///T///r5///09PTMzMy0tLSIiIijo6OSaTRhL2Du///p6emCgoKz0OxrTSb/8sVFOluSkpKq2f+3f1vrvIjl+v99qcf/7b9KGTN/tuash2FsJk6jxd+5hUJfkr7//+twpdf/+eH/99aviXGi0ORWeJ9Qi8PNnmfVso/m0bCJakX/1KT/8OGYcG645fv43sS31uiceE768+tlgbQ3VYbe6vbHpnd1OVI9e6z/4LishVbi///L9vrny5aGVTeTyOUpUnLju5BSVnVGT1nv49BqWUU/ACqRWkwoaKZlLFpQaZCn1+Z9W1D1687e19PU2uI2TWG3n4NlZmjR6PqjuM3XzMASP2aokoNgPQI1JU6cXgUAJ3aLXh5VFlQAFkpeXlwlN0efnq+2w9kkJiaytctdT0tUSVBoS1bCl3Q2U5J0gKGMfXVaUmAtAACAjqtfADuooJfDwK90cGdxdoBlcIMAGDBNOB9Wd659XG1IPDhKLGJ8iqCRf3uMgGZBNENeaW/PuZ5LT3GWaFBwQDqVrc+DXk0cMG5yZo6gYDoiPVUrGh2HkZVDQ4C7iUsbS4BSRDqoo3xURXFqQz2GPxeMi5nKr3I1Wp4cMlF3Wlp0c1BmR2VoLiHO4MkmACKOrbcoADMnGjdphZSfdGVOLyhgUipzZYHHnYiPvLegmrSxq490JhKTYm1bQyiAQCxJKBh5JkI9QE1HaIU8FUU8JAC2PjQrAAAVY0lEQVR4nO1di19TR77PzJyTCEtOHmBDohYMLmwaHhpINJJ49FB5FZF4l6IJYkBqt12LVI3icnm1loIYENT6XFtbuba39bHtvb1r9+reP+3+Zs7JE7D4aLvCfD+tJzlnHr/5fec385s5YX46HQcHBwcHBwcHBwcHBwcHB0c2CELCby0Dxy8HfU9erkJ+ayleBNBDKQSM0IsUs1R2jMTsZC/FJGgRCBlevKDFkEaoVNhwOPhCmknHIlpKv5XdkUjiGfuAGVG02dqHZUEM9ebk5JyfdfrXttueU2wq5qZ/KzEtdj/wTlEaw3j9EYf07m7zizKMZUXQ6Wv+1PiLMCxElFRN+uIn0Zc1RmP/e6VZxOD17yf7j1BoznhGNv7ZxZ6RwDsVCPu7cnKOuk3G4g/OA2Wnl8cW8h7qNiGpp0+Re44txtCyIOhwZW4nSX1NXklgXSbBGxxizzEsZGTOKms5YrdWI52h58MX6JJPgbTZlWwLrjrgtr08gteqBKcKxOtfSxIszWj1ao/Jxv52VrfUcKUC6cvcNhT60KQv9tiWbcG4/riLDpgIq0MFzQXfKQH0f0I/ayWxe0i96rCOjRhMEEIfsOyY0OSCeosNKgIjmGVDanM2OLRhhpauZVYrYV8TLk0iS+JBoktgtXRjrBqp4hEhkUirW02EU4IvAJ2OBLW9hDWYXdPmjXSCSf3NWYKTDxMt02kyaXJpCRKSIq1liRxEa4tKsFYY+1dgBKutwpXzQZJUCSO47QTtEKT+xNEKVHXSQSXXAcHOpKxE1YeWZ2GLjbFd2iiHy3dUh9+C4vR1p0yh3tGR0woKnywYGDnjYoYthgZGRyaCICIMFvJPW4wN1bG/MC2Ht4+ODDqr/t2FajxDA3uDcTt8lby7hidHxqIICEbGeI59lOmMEfyG2+TbMDwwMhYkoloT8ffmjIw5UNWBkh0ftVBdyF059DkJnTtvH/q4SF981oYrd1SIoc00vVh3/KDdbn/UjiQmVhT7t5b02o/Omljv8/fu8zhR+JOgoEv6GKqjwVriPbrXMpR/vKQnf+CMw4T18fyR0z+O7E0NxOkES97xsfxDLqyq0/dpk4De6FBw5VsVKHSOVs1qpC3MmcW0NR4FbTsIetsbZCOXwTdiHzltkyEBlEIJ1tO0g87mG4pAajqcQLAYmKR3Auemzo86aLE5g4qBEeyJT0eB+JmSMiD4wpOgGZqgWbDaSXoGciAn9m+moiycJnFl2VmTNnuXl1VLsbM25J9p8c+UENTqcYYvlDhR6x7aBhyaazEh796ofwcl+I9bjHVHT+fRNpRD3fqIs+oPQPCeKGo9OEvCcy2id4PLZGw4a6IW3NoBRB+qFdIIPgkTQ41HSdbUB6SdslXNtfXlKdQE4Bmq/z5aPuN2ojgleCcQXFYqxo+Z9JdLTCAsQmJdOwocaCGSt8Pp3woZfHcZpWKsxdtWi2ouUsEl3+tJzJqZCJd61oFANf1uRX/Z45R8p231jwbj48nZkUibHUgzMVwe27CFbLyhso/9b7VAL9wbRIGTtZVbS02S10NVSlp3RZG/U+j5ENpcbdr22axJD7o00C5xxoGMFhs0EDVPK5Rg33QQyZ2m5l1A8EYPJVjfc4xUzpSi9W8HEQofcBFjzE1Ugs3QWDAWGyhZqrvywf1u5xp98cGr0BYmqhgPUm3rYUBDEcWfl+3vqwTjyt5Dx0upzupBGqjYd0sxm8EAwm/uR3gTzJq0I19zGmgHrEwSfM1JHWQooiNqRmsYwbsxqW9zILmhGnmvNRqI77UmILhqrtRspv0gjeDXmgSSrOkkDFII+U420fmOmhmuetMFWWZK69tqRTrKJwhG1CBrditUWBhr2iXvKZuAQ2+1gLYRUz+VqK9wB/TUd3fTrqIzF6bA2hxw+f5RhITrNxQwihKbPi+KfDeLQsdUz89MsdnFLozStbsR2vjnLSr75aDJbR1/rRC97ch3q8lsDtxtMkCNwA4bhcFQNnY0btsTFUnrXniig8Y62dAJDQR1ggKZ6JAwjWDaeglaCAQT0trhNJt9t+jASh/X3w2CyVHtYb3vwXj/WRtYsKK1hRULBRpj00EzEfDC5Uk562cYaRVLxW5TcYmpeYM9Pz9/QkkQDAJJde0wzwJzKYLb1TaTwLmbn3U7FyU48HktsBPYNwbF5bsyCTZQgtWabitIjuR1bQCCS7WpemoU7l91UC1lEIxkS15ZimAmBYZRhRJMVIKhOb5HLWj979XxasEQjY11f2pcU/6FG5Ntj1101WaMbWhSH8LUQEU9Tmu/TZ1OEloHlV5PrJSAtsZYqa/DuKNU9E5dpamioL/APtWTZNJ1OIFgIUHwu5oU0MAfX9uvWQi9kU6wIOcNz6gE62PTrFg6zcJjRd9w9kuPUzUPhPxddDSD+SfhbYghy/DWahQY+PizbmURX5C0HqT0YY1gqDVEjfiUk+kjneBWaiowAS8gGFoV6frMsbgFv61ZcGLhtoBgrSafvS+D4Kq3Hex+a1tUSBC8prysVB8fzbWkEayv+4ow6dMJht74aRPadodNpFLcnsSgWSVxbTs0658whcSmmyw2WfE3fGWTeph+2GwlbnYkBCbN79eCocP4ryq0ar57ezQ8v/+TKPLeaqSJDPTuHPOFDEy6TIKhsXRICgxczRtmBIOvw5y0NIIl7/0PLRrBqO6sLdEXKcEoMH/URZgFU5eS6SLlZOl/uG2lBEP/iW9wkUXcSin2JAqNCqkEY3n7f4Cp+OdaQPBCnEYwNUbg4W4tm/1CF1IEi2aMqu4uJPhWE9LXsTlYikGXkwrNwkKCWU1SoQQzDfJNJQnWoesw9xoKzZvAyQd7LEI1ZxtRaGtpYK4oY4imcyGig6U/g+Cai4362B6HqgZzCipJ4a+hw9UcdoADWOHzyGtPfQOrzPpLzsWcLOijtYhagWxmfhaKtbmxPnYeHMPwXClBMhsq9bSFcqH/Akhbk0EwaZ6OQgONsZ0E+d6mBItedgf7bsGlhhG8Hj6WQxeGbi3iTSegd8mF2hysCGKrm/btCuQ/ZoKmTjeqFqzaC9SEKqHHmE2o/IJLn7WOZq2FHt5ntZ4bc5QDK9D3/xMGG8k3+a21d1AJ/4ESfIR5HNR2hiddWAzMf2t9/WSKYLnram5viepF7zaR+scawVNQBPWi3ylClZO3rUOjQUHd6GAEv08JvqFoNTm9Y7nW3pQFg083OQFZwExGC3J7Py5C4QH4vq+ivMwDwnYoknevtRumDUTFGgKxMggWfSe/7brpaVx8+UqaLwaRsRj8LP8Oz1BQ3vGkd+DJcL4j1f3TCMZybGLI7kB6bUYnzd+1ELLt3qwJuB/pA9npUhxXgni9g+ay+1ZrF8zBhynB05Rgnewdow3xnfnWOnR3P93oKO8ayx2aUOTN960F54Dg94OVDyBfGcyuZfcLHChuL7D2zpoSBNP9OlzeUIF8I/dzh0BMY/Geb61WK90DwJUHJqzWrdXGHyZyQYuLbjZhUY5YLJ2KTopAYUS2UIFhLrF0mmHsdYKEnar3Qe8psNYSIbkScYpyp+apQ/5Ok8EYUUiokyZXdIaIInqvfQPpiE6GYjFNos4QRriGFCx32kB3neZETRIkMEec+khiHkFUKgX6GjygjjgIZikspHO1pdPYqWMlQl06VRzMqqH1astR2RJfV7HEOhj7oV4p0mnSiTJtkRyBqi1KWuqMdbDMnom+206tAWAlRovCHlHZtX4QURVm6QQHmaoMWmdSLYgKmGigQdMG5CdaYiiQqlCBj+wKCoVitfVeJ9YkgnxEVptKW2yhSVi9cEtWKIedTqSKtbBHa0O+6mWg5D1twyK5A5DYg6BXOh0kNIKTaYm2TwK3wOtu1CYSIS1vchtFdYaEVE10jzq1O5DKAqWz3U6tVloZy0wSImj7LThZF3T871rEuiNNS21jYqRtjrBCWNUkw/80/BBMLTewmiju0G4hXVInBCWbhZO7xTqUVoEuKSDbhBc0MTXNIMS2aNQk6kZSmkp0aWVoWk2qJLmTRYsiQuLRr/jeSwy9tG1E7B+OPtOWM7q+J+o7XvICbwjwmuw7YuFz7+OuUCy5Ufg8RT3bKwUcns8ZdZlebm9+pd8YrjRghPhbeg4ODg4ODg4ODg4ODg4ODg4ODg4ODg4ODg4ODg4ODg4ODg4ODg4ODg4ODg4OjlUGjPjP6VcySGjoWE9Bt5MzvEIh53rvzJafdPG/UXrVQaSFfyYPkC2xDmfVXQcn+NUGEUOT3YueyVg+4zbRExN+dZE4XiKI79DI1BKHbq4rlYoHh4J8En6lQZLHL2U/8E01GYvH+riX9YoDb1qcYEHuNGF6AAnHq42lCFaPH+Xr4FceSxPMsSKwkOAFCyO0vDOtfyE87aBkjp9HFsGk9S/97IB1DUdv9v+u/8pSR3D9GvL5ewfOuH6z6l99ZBPs3/r4cQVao8FgjliG5/pPLXGI3q8A5J1FdRdfWpCBVQeMKMFpBkoC+8Yfu1BaAiR7H7ZoR2out9gXs3htSGYX9O5uZ+Cd7MgPqwL0gDgtPETq6GD6SVVM5pnCSwD787qm7ud1ptkwah0fn46mT8QYtXaw5bBsWeaqGPV0PlNTkvmYtEKIhcPAIXqwIfHOmkKrkmApbn89XztGP55vn6DHVhJj3G53hbqxDtXZ8/PpkcL5E4sdq5wAlvMsFksGwdhYNjXucaafxYb1vXRDC8UGlxeugwRGn2tMRd6r+fTI3PB2duZzaDKonjled3h1DtHrv+7Xztp+eK+W3sCBObfTv2OqhBqA75HHaTbLDTeeqpz0cyATt/xbx7O3L9lRk/V7l6dnXHmgZfkWlx6RRq77jgZC0GoSvR20QyH4tgoNGNSwbfpv9KxtHJ782ykaLwGXX3abBLLpU9rxRe/DCnpMaNX3z9z7ie/z8TuObJ3i8pnS5b1akoCYZR/GaMxLG/bl66whOqmYdjA1coAYuO0MrEoLRjXutfQMa+MP//VTNT2Gl2w74kICDjNKjbH+IlFXaArfftoQvUTJdf3jT6Ji5k3iO17LDuNlk/rThn2/eoi/Gl1OSJ68Sy8LPAJcub02eQvL71Wrp8g2n6K0S7GORhSYn7A+aMkSZjUAlz9wNJyygeJnm++1qAemf+TuNBMj9U2wf+21RgRch//72V8XYKlhfNyTlc9Yd42Gu5AinWZgohAvmZsE3qScyZFCkxyJKGJhhB0yLRVGFHpUdWapmQSDRx+hR0eT0IUtIu2xBx2oAVbj39euQgsGS22MXWxaY+yN1qgxNHB4XX/baF9U/fzW4YKCc24bTphPCj9fNgnNjX9QkjUzl7HhIn51XwmiR/ovqXLU/GmTAXzAH+9eLbCe81gLrAfcWCfG+378/urQCVdmz8ggmGy8d986MGgC/4pFTMObplw/vxJYqSA+j947VYtaK4yXtWiDJNR7s7+f6Z40X6ko9M2XarqRuw4l9qYOJd7vowVIFY7qx8fv1KaPizDwwoSPA6cLYRitmttpE9IPSE+nAX25SxGwf/Kbr59Ekfeh2ynWnLKReo+z8n/cXua9JQ9LBwDByazo+h4H5KgV1Mp0uOp/V/E+ud5bIXkfFm261Ljp80FmT2YzTHfhmcc05A164+J+VPn3WhR3qAFwFvBY+LtsFKQzXDc+3pFupYSGgNOJoWgz+HC+R6Wo8qcSZow4ZElAXfyimnazgCuP1X/mUgP4wMyKpZ4oqj/i0neC02y87GaHp8s0T898N70oLHrUBbdNiv+jVOQEA+TNW0DRs11B1DrOQloY2a8vJO/jIupjfbFLoRHIqj5RT49fSLDZmpeFSBrBWC67kqFcFuOPmuv1DoWNHJIWspTErQkcYzcYwZCwDiZQ/46vTHj971uQAH1v42GH6nSpObE/D/IMz9OIG1YWba7+xKxJjt3jFkwBY2AUBR6NzZqMMWaz2L99P4yh5WVnG8EXWv+QBTARW1nMuGceotmITISsG0izMhmcO9/AoGbgJKsA9CV1gXH55g4nCr1TgVDNrmg86u80FoNnDoYc6p1wprbd0oZosq2tCPnfazcle1PVm67VSjBGzaC/wL6OKKosm25iy+EvPArSe8/U0ogeG++UmBCS4yc1F+bZnCy6nbUz24tmThYQXGIKrKv29zV3LLE4pREtaXS0ddUENf9zC6r6ozt8qXxmT96jnbbAaFQe8p1xpBznNCeLhVCquwXFJp2sxwuW46sE4E49+mC0tmquxdg78PGd+0GiI62DP9rt9tvgUBOffd9H5/Pt9pH/a396KAeiEo6ziMfGug4la+lJ48oY6OXQ1XP3WuTCYvcSxoVDF/ZDH/M9LBIRDZhojB0cDcIwMzY8f/V20CQUxjy2RQkGt+J8/kQUJ1dasExajesjFTSwGRbof4kQZwL7zN40CJmxz5YE2Xb0+Pgswf6u421HZ9MiZXlvOTP5FWjoZZgJBLnQrLt+A2aH40VLFJ7Y6DDTyQHSYIPZjHTwDzHTDzSmlyG5VsogmMqtvimpO0vXy/rYzl8mIvYKws8YAJF3jD+JGjCq8ThT/KL4mWDmIlim0bHAZoGdw010lKbxkhf9PTVAbJ12Lr1VKfpufdPnTH415mbGEGKBkowsNDgOzxetwh2slwocHn1Ag1qimjT7Rb7jmX/QgPW9MGvi8Cc0/nWFsQHWuaL3YN9SG8TYWPyUXWviO/N6ek68sC+gjWyFJtV5VquL9dJAWkvqr+x2rqn6e9p+UmBf5utXogV/Rr7TCvLZR2dtyaBliwM8/Kf8yQtG+OnjCvGNsb0aqG7VzsAvC6jBZbx8uBbVX2pMGBIJH5hN4w7csFDvxyrjNCRtWni7paG+q39e6HvYiw6xJ9vP43hmGLc70JdXKlCrO7nxWPnAbUpbUsnDA/vGL2pxEclyLerFfgepVbPs2jiWAt50qRH5t95oipVqxoIrN/f3Z2xg9gOqV+lq9JUH2Vht0sEStXuyKWEtodxFsCrft68E6ItL6ZbEzRO7U69p8ZqFeLZgmRz/KsBV83RTsXym353hE2GU8aJwVb6NXQnAyHerkUZsbj6ScVID9hek/VUw8g/xEfqVBK4aOXp07BgBE57MoJCEb6e+G34YaOP7Sa8mkq8YMgdhIZSnZPy4o83BCV5BwP6hrrO21EIYc4JXFnCgu6xa31OgottMOMErDCTweW1qK0vgFrzSILa2h45lWHAR38haSZAaSnqjKQuOeB/PPt/fCnL8awK86LTX/YYe+nNJvhBeScAZv8sjy/ydHgcHBwcHBwcHxwrEwr/E4VhJ4ASvcHCCVzj+H7Sac6frM5X0AAAAAElFTkSuQmCC\" , width =600,height = 300)"
   ]
  },
  {
   "cell_type": "markdown",
   "id": "99dc9bdf",
   "metadata": {
    "papermill": {
     "duration": 0.01196,
     "end_time": "2024-10-15T01:16:34.340082",
     "exception": false,
     "start_time": "2024-10-15T01:16:34.328122",
     "status": "completed"
    },
    "tags": []
   },
   "source": [
    "## To minimize the cost function, we take the derivative of 𝐽(𝑤1) with respect to 𝑤1and update 𝑤1 iteratively:\n",
    "### w1 = w1 − α . ∂w1/ ∂J"
   ]
  },
  {
   "cell_type": "markdown",
   "id": "096bc314",
   "metadata": {
    "papermill": {
     "duration": 0.011688,
     "end_time": "2024-10-15T01:16:34.364244",
     "exception": false,
     "start_time": "2024-10-15T01:16:34.352556",
     "status": "completed"
    },
    "tags": []
   },
   "source": [
    "# **2. Partial Derivatives (Multivariate Calculus)**\n",
    "## **Concept :** When a function depends on more than one variable, partial derivatives measure the rate of change of the function with respect to one variable while keeping others constant."
   ]
  },
  {
   "cell_type": "markdown",
   "id": "728c8260",
   "metadata": {
    "papermill": {
     "duration": 0.01191,
     "end_time": "2024-10-15T01:16:34.388094",
     "exception": false,
     "start_time": "2024-10-15T01:16:34.376184",
     "status": "completed"
    },
    "tags": []
   },
   "source": [
    "## **Example :** For the function f(x,y) = x**2 + 3xy + y**2:\n",
    "### 1- Partial derivative with respect to x : ∂𝑓/∂𝑥 = 2𝑥 + 3𝑦\n",
    "### 2- Partial derivative with respect to 𝑦 : ∂𝑓/∂y = 3𝑥 + 2𝑦"
   ]
  },
  {
   "cell_type": "markdown",
   "id": "52ad498d",
   "metadata": {
    "papermill": {
     "duration": 0.01256,
     "end_time": "2024-10-15T01:16:34.413088",
     "exception": false,
     "start_time": "2024-10-15T01:16:34.400528",
     "status": "completed"
    },
    "tags": []
   },
   "source": [
    "# **Application in Data Science :**\n",
    "### **1- Optimization of Multivariable Functions :** Machine learning models often depend on multiple variables (parameters). Partial derivatives help in understanding how the model's error changes with respect to each parameter.\n",
    "### **2- Backpropagation in Neural Networks :** The backpropagation algorithm in neural networks relies on partial derivatives to update weights across multiple layers."
   ]
  },
  {
   "cell_type": "markdown",
   "id": "3cb08b92",
   "metadata": {
    "papermill": {
     "duration": 0.011671,
     "end_time": "2024-10-15T01:16:34.437458",
     "exception": false,
     "start_time": "2024-10-15T01:16:34.425787",
     "status": "completed"
    },
    "tags": []
   },
   "source": [
    "# **3. Chain Rule**\n",
    "### **Concept :** The chain rule is used to compute the derivative of a composite function (a function of a function)."
   ]
  },
  {
   "cell_type": "code",
   "execution_count": 14,
   "id": "8a56a049",
   "metadata": {
    "execution": {
     "iopub.execute_input": "2024-10-15T01:16:34.463673Z",
     "iopub.status.busy": "2024-10-15T01:16:34.463131Z",
     "iopub.status.idle": "2024-10-15T01:16:34.471660Z",
     "shell.execute_reply": "2024-10-15T01:16:34.470405Z"
    },
    "papermill": {
     "duration": 0.024434,
     "end_time": "2024-10-15T01:16:34.474127",
     "exception": false,
     "start_time": "2024-10-15T01:16:34.449693",
     "status": "completed"
    },
    "tags": []
   },
   "outputs": [
    {
     "data": {
      "text/html": [
       "<img src=\"https://i.pinimg.com/736x/3e/dc/bc/3edcbcdbad3c222ab929f1cee198b559.jpg\" width=\"600\" height=\"300\"/>"
      ],
      "text/plain": [
       "<IPython.core.display.Image object>"
      ]
     },
     "execution_count": 14,
     "metadata": {},
     "output_type": "execute_result"
    }
   ],
   "source": [
    "from IPython.display import Image\n",
    "Image(url=\"https://i.pinimg.com/736x/3e/dc/bc/3edcbcdbad3c222ab929f1cee198b559.jpg\" , width =600,height = 300)"
   ]
  },
  {
   "cell_type": "markdown",
   "id": "845e54e9",
   "metadata": {
    "papermill": {
     "duration": 0.012027,
     "end_time": "2024-10-15T01:16:34.498489",
     "exception": false,
     "start_time": "2024-10-15T01:16:34.486462",
     "status": "completed"
    },
    "tags": []
   },
   "source": [
    "## **Application in Data Science :**\n",
    "### **Backpropagation in Deep Learning:** The chain rule is central to backpropagation, where gradients are computed layer by layer to update weights in neural networks. The output of one layer is the input to the next, forming a composite function."
   ]
  },
  {
   "cell_type": "markdown",
   "id": "a2c9167c",
   "metadata": {
    "papermill": {
     "duration": 0.012137,
     "end_time": "2024-10-15T01:16:34.523766",
     "exception": false,
     "start_time": "2024-10-15T01:16:34.511629",
     "status": "completed"
    },
    "tags": []
   },
   "source": [
    "# **4. Integrals (Area Under a Curve)**\n",
    "### **Concept :** Integrals calculate the area under a curve, which represents the accumulated quantity over time."
   ]
  },
  {
   "cell_type": "code",
   "execution_count": 15,
   "id": "09d5b398",
   "metadata": {
    "execution": {
     "iopub.execute_input": "2024-10-15T01:16:34.551674Z",
     "iopub.status.busy": "2024-10-15T01:16:34.551237Z",
     "iopub.status.idle": "2024-10-15T01:16:34.560426Z",
     "shell.execute_reply": "2024-10-15T01:16:34.559281Z"
    },
    "papermill": {
     "duration": 0.026729,
     "end_time": "2024-10-15T01:16:34.562813",
     "exception": false,
     "start_time": "2024-10-15T01:16:34.536084",
     "status": "completed"
    },
    "tags": []
   },
   "outputs": [
    {
     "data": {
      "text/html": [
       "<img src=\"data:image/png;base64,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\" width=\"600\" height=\"300\"/>"
      ],
      "text/plain": [
       "<IPython.core.display.Image object>"
      ]
     },
     "execution_count": 15,
     "metadata": {},
     "output_type": "execute_result"
    }
   ],
   "source": [
    "from IPython.display import Image\n",
    "Image(url=\"data:image/png;base64,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\" , width =600,height = 300)"
   ]
  },
  {
   "cell_type": "markdown",
   "id": "43c8bbc9",
   "metadata": {
    "papermill": {
     "duration": 0.011865,
     "end_time": "2024-10-15T01:16:34.587140",
     "exception": false,
     "start_time": "2024-10-15T01:16:34.575275",
     "status": "completed"
    },
    "tags": []
   },
   "source": [
    "## **Application in Data Science :**\n",
    "### **Regularization :** Integrals also appear in regularization methods, where we aim to minimize the total \"complexity\" of a model."
   ]
  },
  {
   "cell_type": "code",
   "execution_count": null,
   "id": "3dfa7bb2",
   "metadata": {
    "papermill": {
     "duration": 0.012386,
     "end_time": "2024-10-15T01:16:34.611822",
     "exception": false,
     "start_time": "2024-10-15T01:16:34.599436",
     "status": "completed"
    },
    "tags": []
   },
   "outputs": [],
   "source": []
  }
 ],
 "metadata": {
  "kaggle": {
   "accelerator": "none",
   "dataSources": [],
   "dockerImageVersionId": 30786,
   "isGpuEnabled": false,
   "isInternetEnabled": true,
   "language": "python",
   "sourceType": "notebook"
  },
  "kernelspec": {
   "display_name": "Python 3",
   "language": "python",
   "name": "python3"
  },
  "language_info": {
   "codemirror_mode": {
    "name": "ipython",
    "version": 3
   },
   "file_extension": ".py",
   "mimetype": "text/x-python",
   "name": "python",
   "nbconvert_exporter": "python",
   "pygments_lexer": "ipython3",
   "version": "3.10.14"
  },
  "papermill": {
   "default_parameters": {},
   "duration": 4.506676,
   "end_time": "2024-10-15T01:16:35.045415",
   "environment_variables": {},
   "exception": null,
   "input_path": "__notebook__.ipynb",
   "output_path": "__notebook__.ipynb",
   "parameters": {},
   "start_time": "2024-10-15T01:16:30.538739",
   "version": "2.6.0"
  }
 },
 "nbformat": 4,
 "nbformat_minor": 5
}
